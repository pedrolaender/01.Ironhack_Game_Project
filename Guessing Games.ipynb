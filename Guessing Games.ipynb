{
 "cells": [
  {
   "cell_type": "code",
   "execution_count": null,
   "metadata": {
    "ExecuteTime": {
     "end_time": "2022-10-24T17:53:13.206218Z",
     "start_time": "2022-10-24T17:53:13.189216Z"
    }
   },
   "outputs": [],
   "source": [
    "#Jogo nota 10, muito bem explicado, procurei mas não achei nada à acrescentar!\n",
    "#Apenas o comentario sobre a alteração do sleep.\n",
    "\n",
    "\n",
    "\n",
    "#Pseudo código\n",
    "\n",
    "#Generate a random number between 1 and 100.\n",
    "\n",
    "#Ask the user to guess what number is it, he has 10 tries.\n",
    "\n",
    "#If the number is corret congratulates the player and returns the number of tries.\n",
    "#If the number is incorret: return an answer with a clue, return how many tries stil left."
   ]
  },
  {
   "cell_type": "code",
   "execution_count": null,
   "metadata": {
    "ExecuteTime": {
     "end_time": "2022-10-24T18:54:28.182107Z",
     "start_time": "2022-10-24T18:54:28.165123Z"
    }
   },
   "outputs": [],
   "source": [
    "import random\n",
    "from time import sleep"
   ]
  },
  {
   "cell_type": "code",
   "execution_count": null,
   "metadata": {
    "ExecuteTime": {
     "end_time": "2022-10-24T18:54:29.224728Z",
     "start_time": "2022-10-24T18:54:29.211753Z"
    }
   },
   "outputs": [],
   "source": [
    "class GuessingGame:\n",
    "    def __init__(self, name):\n",
    "        '''\n",
    "        Method to instanciate a new GuessingGame\n",
    "        name = str\n",
    "        '''\n",
    "        self.__name = name                                  \n",
    "        self.__max_attempts = 0\n",
    "        self.__start_game()\n",
    "\n",
    "\n",
    "    def __start_game(self):\n",
    "        '''\n",
    "        Method that starts the game\n",
    "        '''\n",
    "        self.__user_tries = []                              #creat an empty list to store all the user's attempts\n",
    "        self.__num_tries = 1                                #counts the number of tries\n",
    "        self.__guess = 0                                    #iniciates the attribute 'guess' with a number out of the game range (1-100) \n",
    "        self.__number = random.randint(1,100)               #generates a random number between 1 and 100\n",
    "\n",
    "        print(f'Hello {self.__name}! Choose the difficulty: (easy/medium/hard)')\n",
    "        difficulty = input('easy/medium/hard') \n",
    "\n",
    "        self.__select_dif(difficulty)\n",
    "        \n",
    "        print(f'Try to guess the number between 1 and 100! You have {self.__max_attempts} chances.')\n",
    "\n",
    "        #Loop keeps running until the user gets the right answer or runs out of tries ; \n",
    "        #Sleep is for delaying the print for the code to run ;\n",
    "        while self.__num_tries <= self.__max_attempts an_d self.__guess != self._number:\n",
    "            sleep(0.75)\n",
    "            print(f'#----Attempt: {self.__num_tries}----#')\n",
    "            self.__guess = input('Guess the number: ')\n",
    "            \n",
    "            #Check if the input is a digit, otherwise ask for another input\n",
    "            if self.__guess.isdigit() and int(self.__guess) in range(1,101):\n",
    "                self.__guess = int(self.__guess)\n",
    "                self.__comparison()\n",
    "            \n",
    "            else:\n",
    "                print(f'\"{self.__guess}\" is not a valid value. You must choose a number between 1 and 100')\n",
    "\n",
    "\n",
    "    def __select_dif(self, difficulty):\n",
    "        '''\n",
    "        Method that allows the user choose the difficulty. If agr is not one of the three possibilities (easy/medium/hard), the method keep asking the input.\n",
    "        The difficulty sets how many times the user can try: easy = 15; medium = 10; hard = 5.\n",
    "        args: difficulty - str               \n",
    "        '''\n",
    "        while difficulty.lower() not in ['easy', 'medium', 'hard']:\n",
    "            print('Choose between easy, medium or hard')\n",
    "            difficulty = input('(easy/medium/hard)')\n",
    "\n",
    "        if difficulty.lower() == 'easy':\n",
    "            self.__max_attempts = 15\n",
    "        elif difficulty.lower() == 'medium':\n",
    "            self.__max_attempts = 10\n",
    "        else:\n",
    "            self.__max_attempts = 5\n",
    "\n",
    "\n",
    "    def __comparison(self):\n",
    "        '''\n",
    "        Method that compares if the user's input is equal to the random generated number.\n",
    "        If the user gets is right he is congratulated and askes if wants to play agay\n",
    "        If the user gets is wrong, he gets a tip (too high/too low) and is allowed to try againg if he is not out of tries\n",
    "        If he doesn't get it right and the  number of tries exceed the limit, the game stops and the user is asked if he wants to play againg\n",
    "        '''\n",
    "        if self.__guess == self.__number:\n",
    "            print(f'\\nCongratulations! The number is {self.__number}. \\nYou got it right at attempt: #{self.__num_tries}')\n",
    "            self.__user_tries += [self.__guess]\n",
    "            self.__show_tries()\n",
    "            return self.__play_again()\n",
    "    \n",
    "        elif self.__guess < self.__number:\n",
    "            if self.__num_tries == self.__max_attempts:\n",
    "                print(f'{self.__guess} - Too low.')\n",
    "                print(f'Sorry {self.__name}, you ran out of tries. The number was {self.__number}.')\n",
    "                self.__user_tries += [self.__guess]\n",
    "                self.__num_tries += 1\n",
    "                self.__show_tries()\n",
    "                self.__play_again()\n",
    "            else:\n",
    "                print(f'{self.__guess} - Too low. Try againg. You still have {self.__max_attempts - self.__num_tries} chances.')\n",
    "            self.__user_tries += [self.__guess]\n",
    "            self.__num_tries += 1\n",
    "            \n",
    "        else:\n",
    "            if self.__num_tries == self.__max_attempts:\n",
    "                print(f'{self.__guess} - Too high.')\n",
    "                print(f'Sorry {self.__name}, you ran out of tries. The number was {self.__number}.')\n",
    "                self.__user_tries += [self.__guess]\n",
    "                self.__num_tries += 1\n",
    "                self.__show_tries()\n",
    "                self.__play_again()\n",
    "            else:\n",
    "                print(f'{self.__guess} - Too high. Try again. You still have {self.__max_attempts - self.__num_tries} chances.')\n",
    "            self.__user_tries += [self.__guess]\n",
    "            self.__num_tries += 1\n",
    "\n",
    "\n",
    "    def __play_again(self):\n",
    "        '''\n",
    "        Method used to ask if the user wants to play again when he gets the number rigth ou run out of tries. Keep asking until gets a 'yes' or 'no' as answer.\n",
    "        '''\n",
    "        while True:\n",
    "            print('\\nDo you want to play again?')\n",
    "            try_again = input('(yes/no)')\n",
    "                \n",
    "            if try_again.lower() == 'yes':\n",
    "                print('\\n')\n",
    "                return self.__start_game()\n",
    "            elif try_again.lower() == 'no':\n",
    "                return print('\\nThanks for playing!')                   \n",
    "            else:\n",
    "                print('You must choose \"yes\" or \"no\"')\n",
    "\n",
    "\n",
    "    def __show_tries(self):\n",
    "        '''\n",
    "        This is used to show all attmepts the user made\n",
    "        '''\n",
    "        print('\\nYour attempts:')\n",
    "        for i in range(len(self.__user_tries)):\n",
    "            if i == len(self.__user_tries) - 1:\n",
    "                print(f'Attempt {i+1}: {self.__user_tries[i]}.')\n",
    "            else:\n",
    "                print(f'Attempt {i+1}: {self.__user_tries[i]}',end = \" - \")"
   ]
  },
  {
   "cell_type": "code",
   "execution_count": null,
   "metadata": {
    "ExecuteTime": {
     "end_time": "2022-10-24T19:19:32.607245Z",
     "start_time": "2022-10-24T18:54:32.658749Z"
    }
   },
   "outputs": [],
   "source": [
    "play = GuessingGame('Pedro')"
   ]
  },
  {
   "cell_type": "code",
   "execution_count": null,
   "metadata": {},
   "outputs": [],
   "source": []
  }
 ],
 "metadata": {
  "kernelspec": {
   "display_name": "Python 3 (ipykernel)",
   "language": "python",
   "name": "python3"
  },
  "language_info": {
   "codemirror_mode": {
    "name": "ipython",
    "version": 3
   },
   "file_extension": ".py",
   "mimetype": "text/x-python",
   "name": "python",
   "nbconvert_exporter": "python",
   "pygments_lexer": "ipython3",
   "version": "3.9.12"
  },
  "toc": {
   "base_numbering": 1,
   "nav_menu": {},
   "number_sections": true,
   "sideBar": true,
   "skip_h1_title": false,
   "title_cell": "Table of Contents",
   "title_sidebar": "Contents",
   "toc_cell": false,
   "toc_position": {},
   "toc_section_display": true,
   "toc_window_display": false
  },
  "varInspector": {
   "cols": {
    "lenName": 16,
    "lenType": 16,
    "lenVar": 40
   },
   "kernels_config": {
    "python": {
     "delete_cmd_postfix": "",
     "delete_cmd_prefix": "del ",
     "library": "var_list.py",
     "varRefreshCmd": "print(var_dic_list())"
    },
    "r": {
     "delete_cmd_postfix": ") ",
     "delete_cmd_prefix": "rm(",
     "library": "var_list.r",
     "varRefreshCmd": "cat(var_dic_list()) "
    }
   },
   "types_to_exclude": [
    "module",
    "function",
    "builtin_function_or_method",
    "instance",
    "_Feature"
   ],
   "window_display": false
  },
  "vscode": {
   "interpreter": {
    "hash": "2d90c038637108ac29aff4d22cdf99e3e2599f922ccc5532827d676edf9e0ab0"
   }
  }
 },
 "nbformat": 4,
 "nbformat_minor": 2
}
