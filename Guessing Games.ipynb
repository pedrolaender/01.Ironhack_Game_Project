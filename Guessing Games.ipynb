{
 "cells": [
  {
   "cell_type": "code",
   "execution_count": null,
   "metadata": {},
   "outputs": [],
   "source": [
    "#Pseudo código\n",
    "\n",
    "#Generate a random number bitween 1 and 100.\n",
    "\n",
    "#Ask the user to guess what number is it, he has 10 tries.\n",
    "\n",
    "#If the number is corret congratulates the player and return the number of tries.\n",
    "#If the is incorret: return an answer with a clue, return how many tries stil left."
   ]
  },
  {
   "cell_type": "code",
   "execution_count": 3,
   "metadata": {},
   "outputs": [],
   "source": [
    "import random\n",
    "import sys\n"
   ]
  },
  {
   "cell_type": "code",
   "execution_count": null,
   "metadata": {},
   "outputs": [],
   "source": [
    "class GuessingGame:\n",
    "    def __init__(self, name):\n",
    "        self.__name = name\n",
    "        self.__max_attempts = 10\n",
    "        \n",
    "        self.__start_game()\n",
    "        \n",
    "    def __start_game(self):\n",
    "        self.__user_tries = []\n",
    "        self.__num_tries = 1\n",
    "        self.__number = random.randint(1,100)\n",
    "\n",
    "        print(f'Hello {self.__name}! Try to guess the number between 0 and 100! You have {self.__max_attempts} chances.')\n",
    "\n",
    "        while self.__num_tries <= self.__max_attempts:\n",
    "            print(f'#----Attempt: {self.__num_tries}----#')\n",
    "            guess = input('Guess the number: ')\n",
    "\n",
    "            if guess.isdigit():\n",
    "                guess = int(guess)\n",
    "\n",
    "                if guess == self.__number:\n",
    "                    print(f'Congratulations! The number is {self.__number}. \\nYou got it right at attempt: {self.__num_tries}')\n",
    "                    self.__user_tries += [guess]\n",
    "                    self.__show_tries()\n",
    "                    return __play_game\n",
    "                \n",
    "                elif guess < self.__number:\n",
    "                    print(f'{guess} - Too low. Try againg. You still have {self.__max_attempts - self.__num_tries} changes.')\n",
    "                    self.__user_tries += [guess]\n",
    "                    self.__num_tries += 1\n",
    "\n",
    "                else:\n",
    "                    print(f'{guess} - Too high. Try again. You still have {self.__max_attempts - self.__num_tries} changes.')\n",
    "                    self.__user_tries += [guess]\n",
    "                    self.__num_tries += 1\n",
    "                    \n",
    "            else:\n",
    "                print(f'\"{guess}\" is not a valid value. You must choose a number')\n",
    "        \n",
    "        print(f'Sorry {self.__name}, you ran out of tries. The number was {self.__number}.')\n",
    "        self.__show_tries()\n",
    "        \n",
    "        while 1:\n",
    "            try_again = input('Want to try again: (yes/no).')\n",
    "            \n",
    "            if try_again.lower() == 'yes':\n",
    "                self.__start_game()\n",
    "            elif try_again.lower() == 'no':\n",
    "                print('Thanks for playing')\n",
    "                break\n",
    "            else:\n",
    "                print('You must choose \"yes\" or \"no\"')\n",
    "            \n",
    "\n",
    "            \n",
    "    def __show_tries(self):\n",
    "        print('You other attempts')\n",
    "        for i in range(len(self.__user_tries)):\n",
    "            print(f'Attempt {i+1}: {self.__user_tries[i]}.',sep = \"; \")"
   ]
  },
  {
   "cell_type": "code",
   "execution_count": 14,
   "metadata": {},
   "outputs": [
    {
     "name": "stdout",
     "output_type": "stream",
     "text": [
      "Hello Pedro! Try to guess the number between 0 and 100! You have 10 chances.\n",
      "#----Attempt: 1----#\n",
      "15 - Too low. Try againg. You still have 9 changes.\n",
      "#----Attempt: 2----#\n",
      "15 - Too low. Try againg. You still have 8 changes.\n",
      "#----Attempt: 3----#\n",
      "15 - Too low. Try againg. You still have 7 changes.\n",
      "#----Attempt: 4----#\n",
      "15 - Too low. Try againg. You still have 6 changes.\n",
      "#----Attempt: 5----#\n",
      "\"no\" is not a valid value. You must choose a number\n",
      "#----Attempt: 5----#\n",
      "\"no\" is not a valid value. You must choose a number\n",
      "#----Attempt: 5----#\n",
      "\"no10\" is not a valid value. You must choose a number\n",
      "#----Attempt: 5----#\n",
      "10 - Too low. Try againg. You still have 5 changes.\n",
      "#----Attempt: 6----#\n",
      "10 - Too low. Try againg. You still have 4 changes.\n",
      "#----Attempt: 7----#\n",
      "10 - Too low. Try againg. You still have 3 changes.\n",
      "#----Attempt: 8----#\n",
      "10 - Too low. Try againg. You still have 2 changes.\n",
      "#----Attempt: 9----#\n",
      "10 - Too low. Try againg. You still have 1 changes.\n",
      "#----Attempt: 10----#\n",
      "10 - Too low. Try againg. You still have 0 changes.\n",
      "Sorry Pedro, you ran out of tries. The number was 97.\n",
      "You other attempts\n",
      "Attempt 1: 15.\n",
      "Attempt 2: 15.\n",
      "Attempt 3: 15.\n",
      "Attempt 4: 15.\n",
      "Attempt 5: 10.\n",
      "Attempt 6: 10.\n",
      "Attempt 7: 10.\n",
      "Attempt 8: 10.\n",
      "Attempt 9: 10.\n",
      "Attempt 10: 10.\n",
      "You must choose \"yes\" or \"no\"\n",
      "You must choose \"yes\" or \"no\"\n",
      "You must choose \"yes\" or \"no\"\n",
      "You must choose \"yes\" or \"no\"\n",
      "You must choose \"yes\" or \"no\"\n",
      "Thanks for playing\n"
     ]
    },
    {
     "ename": "SystemExit",
     "evalue": "",
     "output_type": "error",
     "traceback": [
      "An exception has occurred, use %tb to see the full traceback.\n",
      "\u001b[1;31mSystemExit\u001b[0m\n"
     ]
    }
   ],
   "source": [
    "guess = GuessingGame('Pedro')"
   ]
  },
  {
   "cell_type": "code",
   "execution_count": null,
   "metadata": {},
   "outputs": [],
   "source": []
  }
 ],
 "metadata": {
  "kernelspec": {
   "display_name": "Python 3.9.12 ('base')",
   "language": "python",
   "name": "python3"
  },
  "language_info": {
   "codemirror_mode": {
    "name": "ipython",
    "version": 3
   },
   "file_extension": ".py",
   "mimetype": "text/x-python",
   "name": "python",
   "nbconvert_exporter": "python",
   "pygments_lexer": "ipython3",
   "version": "3.9.12"
  },
  "orig_nbformat": 4,
  "vscode": {
   "interpreter": {
    "hash": "2d90c038637108ac29aff4d22cdf99e3e2599f922ccc5532827d676edf9e0ab0"
   }
  }
 },
 "nbformat": 4,
 "nbformat_minor": 2
}
